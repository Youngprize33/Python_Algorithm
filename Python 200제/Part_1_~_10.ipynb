{
  "nbformat": 4,
  "nbformat_minor": 0,
  "metadata": {
    "colab": {
      "name": "Part.1 ~ 10",
      "provenance": [],
      "authorship_tag": "ABX9TyPhHQONLyBErYvwQRp1Y54y",
      "include_colab_link": true
    },
    "kernelspec": {
      "name": "python3",
      "display_name": "Python 3"
    },
    "language_info": {
      "name": "python"
    }
  },
  "cells": [
    {
      "cell_type": "markdown",
      "metadata": {
        "id": "view-in-github",
        "colab_type": "text"
      },
      "source": [
        "<a href=\"https://colab.research.google.com/github/Youngprize33/Python_Algorithm/blob/main/Part_1_~_10.ipynb\" target=\"_parent\"><img src=\"https://colab.research.google.com/assets/colab-badge.svg\" alt=\"Open In Colab\"/></a>"
      ]
    },
    {
      "cell_type": "markdown",
      "metadata": {
        "id": "QIsA0je6i40Y"
      },
      "source": [
        "# 1.대화식 모드로 프로그래밍하기\n",
        "\n",
        "파이썬 = 인터프리터 언어\n",
        "( 소스 코드 한 라인씩 순서대로 실행 및 출력 )"
      ]
    },
    {
      "cell_type": "code",
      "metadata": {
        "colab": {
          "base_uri": "https://localhost:8080/"
        },
        "id": "fEK9LIpoje7A",
        "outputId": "12344ef8-b142-48b8-dc49-25bcb65a6126"
      },
      "source": [
        "print('안녕하세요')"
      ],
      "execution_count": 1,
      "outputs": [
        {
          "output_type": "stream",
          "text": [
            "안녕하세요\n"
          ],
          "name": "stdout"
        }
      ]
    },
    {
      "cell_type": "markdown",
      "metadata": {
        "id": "T5skh7UCjgPW"
      },
      "source": [
        "# 2. 텍스트 에디터로 프로그래밍하기"
      ]
    },
    {
      "cell_type": "code",
      "metadata": {
        "colab": {
          "base_uri": "https://localhost:8080/"
        },
        "id": "4Xa3j-Odju_z",
        "outputId": "d8669cdd-f5ee-4c87-d111-7e6e99dbdb86"
      },
      "source": [
        "print('안녕하세요')\n",
        "a = 1\n",
        "b = 1\n",
        "print(a+b)"
      ],
      "execution_count": 2,
      "outputs": [
        {
          "output_type": "stream",
          "text": [
            "안녕하세요\n",
            "2\n"
          ],
          "name": "stdout"
        }
      ]
    },
    {
      "cell_type": "markdown",
      "metadata": {
        "id": "mgI7Rsjdjzrq"
      },
      "source": [
        "파이썬 코드를 한 번에 일괄적으로 실행 = 배치(batch) 형식 동작"
      ]
    },
    {
      "cell_type": "markdown",
      "metadata": {
        "id": "iv5gQAcxj5by"
      },
      "source": [
        "# 3. 변수명 만들기"
      ]
    },
    {
      "cell_type": "code",
      "metadata": {
        "colab": {
          "base_uri": "https://localhost:8080/",
          "height": 139
        },
        "id": "LJntj3Aoj86h",
        "outputId": "6a1be491-ec4e-40c0-b801-0db498c3e0b8"
      },
      "source": [
        "_myname = 'samsjang'\n",
        "my_name = '홍길동\n",
        "MyName2 = 'Hong gil-dong'\n",
        "counter = 1\n",
        "Counter = 1"
      ],
      "execution_count": 3,
      "outputs": [
        {
          "output_type": "error",
          "ename": "SyntaxError",
          "evalue": "ignored",
          "traceback": [
            "\u001b[0;36m  File \u001b[0;32m\"<ipython-input-3-1e81b85d5682>\"\u001b[0;36m, line \u001b[0;32m2\u001b[0m\n\u001b[0;31m    my_name = '홍길동\u001b[0m\n\u001b[0m                  ^\u001b[0m\n\u001b[0;31mSyntaxError\u001b[0m\u001b[0;31m:\u001b[0m EOL while scanning string literal\n"
          ]
        }
      ]
    },
    {
      "cell_type": "markdown",
      "metadata": {
        "id": "wSYUjAcmkKM5"
      },
      "source": [
        "- 변수명의 첫 문자는 _(언더스코어) 또는 영문자\n",
        "- 두 번째 문자부터는 알파벳, 숫자, 밑줄 문자 가능\n",
        "- 변수명은 대소문자 구분\n",
        "- 파이썬 예약어 변수명 사용 불가 변수명의 첫 문자는 _(언더스코어) 또는 영문자\n",
        "- 두 번째 문자부터는 알파벳, 숫자, 밑줄 문자 가능\n",
        "- 변수명은 대소문자 구분\n",
        " 변수명의 첫 문자는 _(언더스코어) 또는 영문자\n",
        "- 두 번째 문자부터는 알파벳, 숫자, 밑줄 문자 가능\n",
        "- 변수명은 대소문자 구분\n",
        "- 파이썬 예약어 변수명 사용 불가"
      ]
    },
    {
      "cell_type": "code",
      "metadata": {
        "colab": {
          "base_uri": "https://localhost:8080/"
        },
        "id": "uyPNe_eYkceM",
        "outputId": "a7a00019-d472-46be-d522-58e01f3db1e5"
      },
      "source": [
        "# 파이썬 예약어\n",
        "import keyword\n",
        "keyword.kwlist"
      ],
      "execution_count": 4,
      "outputs": [
        {
          "output_type": "execute_result",
          "data": {
            "text/plain": [
              "['False',\n",
              " 'None',\n",
              " 'True',\n",
              " 'and',\n",
              " 'as',\n",
              " 'assert',\n",
              " 'async',\n",
              " 'await',\n",
              " 'break',\n",
              " 'class',\n",
              " 'continue',\n",
              " 'def',\n",
              " 'del',\n",
              " 'elif',\n",
              " 'else',\n",
              " 'except',\n",
              " 'finally',\n",
              " 'for',\n",
              " 'from',\n",
              " 'global',\n",
              " 'if',\n",
              " 'import',\n",
              " 'in',\n",
              " 'is',\n",
              " 'lambda',\n",
              " 'nonlocal',\n",
              " 'not',\n",
              " 'or',\n",
              " 'pass',\n",
              " 'raise',\n",
              " 'return',\n",
              " 'try',\n",
              " 'while',\n",
              " 'with',\n",
              " 'yield']"
            ]
          },
          "metadata": {
            "tags": []
          },
          "execution_count": 4
        }
      ]
    },
    {
      "cell_type": "markdown",
      "metadata": {
        "id": "2FO3M4H6khZe"
      },
      "source": [
        "# 4. 변수에 값 대입하기"
      ]
    },
    {
      "cell_type": "code",
      "metadata": {
        "id": "ecV3Te7rktJ2"
      },
      "source": [
        "number1 = 1\n",
        "pi = 3.14\n",
        "flag = True\n",
        "char = 'x'\n",
        "chars = 'I love Python'"
      ],
      "execution_count": 6,
      "outputs": []
    },
    {
      "cell_type": "markdown",
      "metadata": {
        "id": "_rhZZ1FHkwQN"
      },
      "source": [
        "- number = 정수형 자료\n",
        "- flag = boolean\n",
        "- char = 문자형"
      ]
    },
    {
      "cell_type": "markdown",
      "metadata": {
        "id": "cxrvB7-alB-k"
      },
      "source": [
        "# 5. 주석 처리하기(#)"
      ]
    },
    {
      "cell_type": "code",
      "metadata": {
        "colab": {
          "base_uri": "https://localhost:8080/"
        },
        "id": "9e3OjS8-lFiz",
        "outputId": "e4ce0751-10fa-42db-91f7-c0dfb914883f"
      },
      "source": [
        "# 주석 처리 예시\n",
        "# 만든 날짜 20.04.06\n",
        "a = 1     # a에 1 대입\n",
        "b = 5     # b에 5 대입\n",
        "a+b         # a+b 출력"
      ],
      "execution_count": 8,
      "outputs": [
        {
          "output_type": "execute_result",
          "data": {
            "text/plain": [
              "6"
            ]
          },
          "metadata": {
            "tags": []
          },
          "execution_count": 8
        }
      ]
    },
    {
      "cell_type": "markdown",
      "metadata": {
        "id": "fhItLwx0lWZR"
      },
      "source": [
        "특정 영역을 처리하고자 할 경우 = 삼중 따옴표"
      ]
    },
    {
      "cell_type": "code",
      "metadata": {
        "colab": {
          "base_uri": "https://localhost:8080/"
        },
        "id": "68d5ZtiPlcb9",
        "outputId": "e78daff0-f537-4f96-d4cf-6b3b3c9ad905"
      },
      "source": [
        "# 삼중 따옴표 예시\n",
        "\"\"\"\n",
        "a = 1\n",
        "b = 5\n",
        "print(a+b)\n",
        "\"\"\"\n",
        "a = 2\n",
        "b = 6\n",
        "print(a+b)"
      ],
      "execution_count": 11,
      "outputs": [
        {
          "output_type": "stream",
          "text": [
            "8\n"
          ],
          "name": "stdout"
        }
      ]
    },
    {
      "cell_type": "markdown",
      "metadata": {
        "id": "22_ZHsP6lhWi"
      },
      "source": [
        "# 6. 자료형 개념 배우기기 "
      ]
    },
    {
      "cell_type": "code",
      "metadata": {
        "id": "PFXxhRkUlqD6"
      },
      "source": [
        "int_data = 1                      # 정수 선언\n",
        "float_data = 3.14                 # 실수 선언\n",
        "complex_data = 1+5j              # 복소수 선언\n",
        "str_data1 = 'I love Python'       # 문자열 선언 (영문)\n",
        "str_data2 = '반갑습니다'          # 문자열 선언 (한글)\n",
        "list_data = [1,2,3]               # 리스트 선언\n",
        "tuple_data = (1,2,3)              # 튜플 선언\n",
        "dict_data = {0:'False', 1:'True'} # 딕셔너리 선언"
      ],
      "execution_count": 12,
      "outputs": []
    },
    {
      "cell_type": "markdown",
      "metadata": {
        "id": "RlZexwbrpQxu"
      },
      "source": [
        "- 수치형(numeric) 자료  \n",
        "int : 정수형 자료  \n",
        "float : 실수형 자료  \n",
        "complex : 복소수형 자료  \n",
        "\n",
        "- 문자열(character) 자료\n",
        "\n",
        "- 리스트 자료  \n",
        "임의의 객체를 순서 있게 나열한 자료  \n",
        "각 요소는 콤마(,)로 구분  \n",
        "리스트의 각 요소는 임의의 자료형이나 객체가 될 수 있다.\n",
        "\n",
        "- 튜플 자료  \n",
        "리스트와 비슷하나 요소 값 변경 불가\n",
        "\n",
        "- 딕셔너리 자료\n",
        "key와 value로 이루어 짐   \n",
        "콤마로 구분  \n",
        "자료에 순서가 없어 인덱스 값 불가  \n",
        "키를 이용하여 접근    \n",
        "\n"
      ]
    },
    {
      "cell_type": "markdown",
      "metadata": {
        "id": "bdCy6-aiqR9y"
      },
      "source": [
        "# 7. 자료형 출력 개념 배우기(print)"
      ]
    },
    {
      "cell_type": "code",
      "metadata": {
        "colab": {
          "base_uri": "https://localhost:8080/"
        },
        "id": "GkhKgzmgqWNx",
        "outputId": "3754441f-45cf-473a-fc62-e7576e8538c2"
      },
      "source": [
        "a = 200\n",
        "msg = 'I lov Python'\n",
        "list_data = ['a', 'b', 'c']\n",
        "dict_data = {'a':97, 'b':98}\n",
        "print(a)\n",
        "print(msg)\n",
        "print(list_data)\n",
        "print(list_data[0])\n",
        "print(dict_data)\n",
        "print(dict_data['a'])"
      ],
      "execution_count": 14,
      "outputs": [
        {
          "output_type": "stream",
          "text": [
            "200\n",
            "I lov Python\n",
            "['a', 'b', 'c']\n",
            "a\n",
            "{'a': 97, 'b': 98}\n",
            "97\n"
          ],
          "name": "stdout"
        }
      ]
    },
    {
      "cell_type": "markdown",
      "metadata": {
        "id": "x_nE04xLqnwg"
      },
      "source": [
        "# 들여쓰기 개념 배우기"
      ]
    },
    {
      "cell_type": "code",
      "metadata": {
        "colab": {
          "base_uri": "https://localhost:8080/"
        },
        "id": "Z_QuZOiNuGAS",
        "outputId": "83fb3301-5b3c-458a-d89b-8892fed702bf"
      },
      "source": [
        "listdata = ['a','b','c']\n",
        "if 'a' in listdata:\n",
        "  print('a가 listdata에 있습니다.')\n",
        "  print(listdata)\n",
        "else:\n",
        "  print('a가 listdata에 존재하지 않습니다.')"
      ],
      "execution_count": 16,
      "outputs": [
        {
          "output_type": "stream",
          "text": [
            "a가 listdata에 있습니다.\n",
            "['a', 'b', 'c']\n"
          ],
          "name": "stdout"
        }
      ]
    },
    {
      "cell_type": "markdown",
      "metadata": {
        "id": "KzurQjgeuSzU"
      },
      "source": [
        "- 가장 바깥쪽의 실행코드는 들여쓰기 없이 시작해야한다.  \n",
        "- 콜론(':') 다음 라인부터 시작하는 실행 코드는 들여쓰기 간격이 모두 동일해야 함 가장 바깥쪽의 실행코드는 들여쓰기 없이 시작해야한다.  \n"
      ]
    },
    {
      "cell_type": "code",
      "metadata": {
        "colab": {
          "base_uri": "https://localhost:8080/",
          "height": 139
        },
        "id": "dTQHhkIvuuyi",
        "outputId": "af45efa9-6100-498d-e8ea-e499354c8e15"
      },
      "source": [
        "# 오류 예시\n",
        " listdata = ['a','b','c']\n",
        "if 'a' in listdata:\n",
        "  print('a')\n",
        "else:\n",
        "  print('b')"
      ],
      "execution_count": 17,
      "outputs": [
        {
          "output_type": "error",
          "ename": "IndentationError",
          "evalue": "ignored",
          "traceback": [
            "\u001b[0;36m  File \u001b[0;32m\"<ipython-input-17-85fc37d2be0d>\"\u001b[0;36m, line \u001b[0;32m2\u001b[0m\n\u001b[0;31m    listdata = ['a','b','c']\u001b[0m\n\u001b[0m    ^\u001b[0m\n\u001b[0;31mIndentationError\u001b[0m\u001b[0;31m:\u001b[0m unexpected indent\n"
          ]
        }
      ]
    },
    {
      "cell_type": "code",
      "metadata": {
        "colab": {
          "base_uri": "https://localhost:8080/",
          "height": 139
        },
        "id": "X0dWJSgIu9_j",
        "outputId": "44eb32fc-5295-4153-940b-647b057844a0"
      },
      "source": [
        "# 오류 예시\n",
        "listdata = ['a','b','c']\n",
        "if 'a' in listdata:\n",
        "  print('a가 listdata에 있습니다.')\n",
        "    print(listdata)     # 오류 지점 오류 예시\n",
        "    listdata = ['a','b','c']\n",
        "    if 'a' in listdata:\n",
        "      print('a가 listdata에 있습니다.')\n",
        "          print(listdata)     # 오류 지점\n",
        "          else:\n",
        "            print('a가 listdata에 없습니다.')\n",
        "else:\n",
        "  print('a가 listdata에 없습니다.')"
      ],
      "execution_count": 18,
      "outputs": [
        {
          "output_type": "error",
          "ename": "IndentationError",
          "evalue": "ignored",
          "traceback": [
            "\u001b[0;36m  File \u001b[0;32m\"<ipython-input-18-f35118bc4689>\"\u001b[0;36m, line \u001b[0;32m5\u001b[0m\n\u001b[0;31m    print(listdata)\u001b[0m\n\u001b[0m    ^\u001b[0m\n\u001b[0;31mIndentationError\u001b[0m\u001b[0;31m:\u001b[0m unexpected indent\n"
          ]
        }
      ]
    },
    {
      "cell_type": "markdown",
      "metadata": {
        "id": "4Zr5a_JMvLmj"
      },
      "source": [
        "# 9. if문 개념 배우기 (if ~ else)"
      ]
    },
    {
      "cell_type": "code",
      "metadata": {
        "colab": {
          "base_uri": "https://localhost:8080/"
        },
        "id": "ULRxKj5tvSZ8",
        "outputId": "eb0b1718-eb62-4426-b9c9-40b56c3e9efd"
      },
      "source": [
        "x = 1\n",
        "y = 2\n",
        "if x >= y:\n",
        "  print('x가 y보다 크거나 같습니다.')\n",
        "else:\n",
        "  print('x가 y보다 작습니다.')"
      ],
      "execution_count": 19,
      "outputs": [
        {
          "output_type": "stream",
          "text": [
            "x가 y보다 작습니다.\n"
          ],
          "name": "stdout"
        }
      ]
    },
    {
      "cell_type": "markdown",
      "metadata": {
        "id": "TjC5dDDMvbbW"
      },
      "source": [
        "if 조건:  \n",
        "    실행코드 1  \n",
        "else:  \n",
        "    실행코드 2"
      ]
    },
    {
      "cell_type": "markdown",
      "metadata": {
        "id": "jwtj3Mh9vixX"
      },
      "source": [
        "참인 경우만 출력시,  \n",
        "if 조건:  \n",
        "  실행코드"
      ]
    },
    {
      "cell_type": "markdown",
      "metadata": {
        "id": "AV42SDp5vr2G"
      },
      "source": [
        "# 10. if문 개념 배우기 (if ~ elif)"
      ]
    },
    {
      "cell_type": "code",
      "metadata": {
        "colab": {
          "base_uri": "https://localhost:8080/"
        },
        "id": "B_rRKvi1wphr",
        "outputId": "ce28a7db-16d4-4f33-d938-dc4f6ec7b677"
      },
      "source": [
        "x = 1\n",
        "y = 2\n",
        "if x > y:\n",
        "  print('x가 y보다 큽니다.')\n",
        "elif x < y:\n",
        "  print('x가 y보다 작습니다.')\n",
        "else:\n",
        "  print('x와 y가 같습니다.')"
      ],
      "execution_count": 20,
      "outputs": [
        {
          "output_type": "stream",
          "text": [
            "x가 y보다 작습니다.\n"
          ],
          "name": "stdout"
        }
      ]
    },
    {
      "cell_type": "markdown",
      "metadata": {
        "id": "wRUjzxOyw3eJ"
      },
      "source": [
        "if 조건1:   \n",
        "  실행코드1  \n",
        "elif 조건2:  \n",
        "  실행코드2  \n",
        "else:  \n",
        "  실행코드3"
      ]
    },
    {
      "cell_type": "code",
      "metadata": {
        "id": "x4TDPR9kxCMf"
      },
      "source": [
        ""
      ],
      "execution_count": null,
      "outputs": []
    }
  ]
}
