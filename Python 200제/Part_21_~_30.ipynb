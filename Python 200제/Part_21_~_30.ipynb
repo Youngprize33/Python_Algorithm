{
  "nbformat": 4,
  "nbformat_minor": 0,
  "metadata": {
    "colab": {
      "name": "Part.21 ~ 30",
      "provenance": [],
      "authorship_tag": "ABX9TyPPZjZEfGcL9ptuJeWpZxNh",
      "include_colab_link": true
    },
    "kernelspec": {
      "name": "python3",
      "display_name": "Python 3"
    },
    "language_info": {
      "name": "python"
    }
  },
  "cells": [
    {
      "cell_type": "markdown",
      "metadata": {
        "id": "view-in-github",
        "colab_type": "text"
      },
      "source": [
        "<a href=\"https://colab.research.google.com/github/Youngprize33/Python_Algorithm/blob/main/Part_21_~_30.ipynb\" target=\"_parent\"><img src=\"https://colab.research.google.com/assets/colab-badge.svg\" alt=\"Open In Colab\"/></a>"
      ]
    },
    {
      "cell_type": "markdown",
      "metadata": {
        "id": "WhYnuyGeiUaQ"
      },
      "source": [
        "# 파이썬 200제 21번 ~ 30번"
      ]
    },
    {
      "cell_type": "markdown",
      "metadata": {
        "id": "Ypd2zl0KieyX"
      },
      "source": [
        "## 21번 연산자 축약 이해하기 (+=, -=, *=, /=)"
      ]
    },
    {
      "cell_type": "code",
      "metadata": {
        "id": "ITXGDH2-iqP6"
      },
      "source": [
        "a = 0\n",
        "a += 1  # a = a+1, a의 값은 1\n",
        "a -= 5  # a = a-5, a의 값은 -4\n",
        "a *= 2  # a = a*2, a의 값은 -8\n",
        "a /= 4  # a = a/4, a의 값은 -2.0"
      ],
      "execution_count": null,
      "outputs": []
    },
    {
      "cell_type": "code",
      "metadata": {
        "colab": {
          "base_uri": "https://localhost:8080/"
        },
        "id": "lVvX5KMOi9bn",
        "outputId": "46c5adbb-00fc-4a97-849b-825fc7dee071"
      },
      "source": [
        "a"
      ],
      "execution_count": null,
      "outputs": [
        {
          "output_type": "execute_result",
          "data": {
            "text/plain": [
              "-2.0"
            ]
          },
          "metadata": {
            "tags": []
          },
          "execution_count": 2
        }
      ]
    },
    {
      "cell_type": "markdown",
      "metadata": {
        "id": "9Iff1-yyi_-K"
      },
      "source": [
        "변수 a에 1을 더하고 그 결과를 다시 변수 a에 대입할 때 다음과 같은 식"
      ]
    },
    {
      "cell_type": "code",
      "metadata": {
        "id": "aTLgvmBBjFhm"
      },
      "source": [
        "a = a+1"
      ],
      "execution_count": null,
      "outputs": []
    },
    {
      "cell_type": "markdown",
      "metadata": {
        "id": "YI1b6KdJjGpc"
      },
      "source": [
        "이와 같이 어떤 변수와 어떤 값을 사칙 연산한 결과를 다시 동일한 변수에 대입할 때  \n",
        " 다음과 같은 연산자 축약 표현 가능"
      ]
    },
    {
      "cell_type": "code",
      "metadata": {
        "id": "_c9MbQsnjMs4"
      },
      "source": [
        "a += 1"
      ],
      "execution_count": null,
      "outputs": []
    },
    {
      "cell_type": "markdown",
      "metadata": {
        "id": "LNaHgMikjTdK"
      },
      "source": [
        "사칙 연산자가 섞여 있을 떼, 연산 우선 순위는 곱셈, 나눗셈 > 덧셈, 뺄셈"
      ]
    },
    {
      "cell_type": "markdown",
      "metadata": {
        "id": "Uee8DpGVjdlN"
      },
      "source": [
        "거듭제곱은 사칙 연산보다 연산 순위가 더 우선"
      ]
    },
    {
      "cell_type": "markdown",
      "metadata": {
        "id": "LBZ-IUkojnCP"
      },
      "source": [
        "# 22번 True와 False 이해하기 "
      ]
    },
    {
      "cell_type": "code",
      "metadata": {
        "colab": {
          "base_uri": "https://localhost:8080/"
        },
        "id": "BKmBWYN8mgjz",
        "outputId": "8ea85231-5e23-4c1e-b8da-e7a2965dc6e8"
      },
      "source": [
        "a = True\n",
        "b = False\n",
        "print(a==1)  # True 출력\n",
        "print(b!=0)  # False 출력"
      ],
      "execution_count": 1,
      "outputs": [
        {
          "output_type": "stream",
          "text": [
            "True\n",
            "False\n"
          ],
          "name": "stdout"
        }
      ]
    },
    {
      "cell_type": "markdown",
      "metadata": {
        "id": "434LWmFlnZTA"
      },
      "source": [
        "파이썬에서 True는 1, False는 0을 의미\n",
        "\n",
        "무한루프 로직을 구현한다면  \n",
        "다음과 같은 while 반복문 생성\n"
      ]
    },
    {
      "cell_type": "code",
      "metadata": {
        "id": "XGS9kVBLn1ic"
      },
      "source": [
        "while True:\n",
        "    (문한 반복 실행 코드)\n",
        "    ```\n",
        "    if 조건 == True:         # 조건 만족시, 무한루프 탈출 \n",
        "      break"
      ],
      "execution_count": null,
      "outputs": []
    },
    {
      "cell_type": "markdown",
      "metadata": {
        "id": "3mMTBaS6oJej"
      },
      "source": [
        "# 23. 관계연산자 이해하기 (==, !=, <, <=, >, >=)"
      ]
    },
    {
      "cell_type": "code",
      "metadata": {
        "colab": {
          "base_uri": "https://localhost:8080/"
        },
        "id": "RIdt0-uxoQ-7",
        "outputId": "3b97572e-bcac-4581-f6ec-236bd508de98"
      },
      "source": [
        "x = 1; y = 2\n",
        "str1 = 'abc'; str2 = 'python'           \n",
        "print(x == y)                           # False 출력\n",
        "print(x != y)                           # True 출력\n",
        "print(str1 == str2)                     # False 출력\n",
        "print(str2 == 'python')                 # True 출력\n",
        "print(str1 < str2)                      # True 출력"
      ],
      "execution_count": 6,
      "outputs": [
        {
          "output_type": "stream",
          "text": [
            "False\n",
            "True\n",
            "False\n",
            "True\n",
            "True\n"
          ],
          "name": "stdout"
        }
      ]
    },
    {
      "cell_type": "markdown",
      "metadata": {
        "id": "l4DZfuvqoneC"
      },
      "source": [
        "A == B : A와 B가 같으면 참  \n",
        "A != B : A와 B가 다르면 참  \n",
        "A < B : A가 B보다 작으면 참  \n",
        "A <= B : A가 B보다 작거나 같으면 참  \n",
        "A > B : A가 B보다 크면 참  \n",
        "A >= B : A가 B보다 크거나 같으면 참"
      ]
    },
    {
      "cell_type": "markdown",
      "metadata": {
        "id": "kJuTOIVPpuEL"
      },
      "source": [
        "# 24. 논리 연산자 이해하기 (and, or, not)"
      ]
    },
    {
      "cell_type": "code",
      "metadata": {
        "colab": {
          "base_uri": "https://localhost:8080/"
        },
        "id": "kR8m-QgUpsuu",
        "outputId": "11a296bf-e926-4144-8ce0-8126b79d3702"
      },
      "source": [
        "bool1 = True; bool2 = False; bool3 = True; bool4 = False\n",
        "print(bool1 and bool2)            # False가 출력\n",
        "print(bool1 and bool3)            # True가 출력\n",
        "print(bool2 or bool3)             # True가 출력\n",
        "print(bool2 or bool4)             # False가 출력\n",
        "print(not bool1)                  # False가 출력\n",
        "print(not bool2)                  # True가 출력"
      ],
      "execution_count": 7,
      "outputs": [
        {
          "output_type": "stream",
          "text": [
            "False\n",
            "True\n",
            "True\n",
            "False\n",
            "False\n",
            "True\n"
          ],
          "name": "stdout"
        }
      ]
    },
    {
      "cell_type": "markdown",
      "metadata": {
        "id": "5vvbphwgsgc4"
      },
      "source": [
        "A and B : A와 B가 모두 참이면 참  \n",
        "A or B : A, B 중 하나 이상이 참이면 참  \n",
        "not A : A 논리값의 반대  "
      ]
    },
    {
      "cell_type": "markdown",
      "metadata": {
        "id": "NZsiHAqwszQg"
      },
      "source": [
        "# 비트 연산자 이해하기 (&, |, ^, >>, <<)"
      ]
    },
    {
      "cell_type": "code",
      "metadata": {
        "colab": {
          "base_uri": "https://localhost:8080/"
        },
        "id": "SqnIsnaQtAhH",
        "outputId": "16226be5-a324-4f60-c6e2-f113c36fe472"
      },
      "source": [
        "bit1 = 0x61\n",
        "bit2 = 0x62\n",
        "print(hex(bit1 & bit2))   # 0x60 출력\n",
        "print(hex(bit1 | bit2))   # 0x63 출력\n",
        "print(hex(bit1 ^ bit2))   # 0x3 출력\n",
        "print(hex(bit1 >> 1))     # 0x30 출력\n",
        "print(hex(bit1 << 2))     # 0x184 출력"
      ],
      "execution_count": 8,
      "outputs": [
        {
          "output_type": "stream",
          "text": [
            "0x60\n",
            "0x63\n",
            "0x3\n",
            "0x30\n",
            "0x184\n"
          ],
          "name": "stdout"
        }
      ]
    },
    {
      "cell_type": "markdown",
      "metadata": {
        "id": "pzxsFXrHteCN"
      },
      "source": [
        "1비트는 0 또는 1로만 표현 될 수 있는 데이터 단위  \n",
        "8비트 = 1바이트  \n",
        "a = 01100001  \n",
        "b=  01100010  \n",
        "\n",
        "a와 b의 비트간 연산은 각 자릿수에 맞게 비트별로 연산을 독립적으로 수행\n",
        "\n",
        "A & B : A와 B의 비트간 and 연산을 수행  \n",
        "A | B : A와 B의 비트간 or 연산을 수행  \n",
        "A ^ B : A와 B의 비트간 배타적 논리합 xor 연산을 수행    \n",
        "~A : A의 비트를 반전, 즉 A의 1의 보수를 만듬  \n",
        "A >> n : A의 모든 비트를 n만큼 오른쪽으로 시프트  \n",
        "A << n : A의 모든 비트를 n만큼 왼쪽으로 시프트  \n",
        "\n",
        "1바이트를 2진수로 표현하면 8자리 숫ㅈ자가 되어 길기에  \n",
        "편의상 1바이트를 16진수로 표현  \n",
        "왼쪽 4비트 : 상위 4비트  \n",
        "오른쪽 4비트 : 하위 4비트  \n",
        "각 상,하위 비트를 16진수로 대응  \n",
        "\n",
        "a = 61\n",
        "\n"
      ]
    },
    {
      "cell_type": "markdown",
      "metadata": {
        "id": "oMpP3RecvRwo"
      },
      "source": [
        "# 26. 시퀀스 자료형 이해하기"
      ]
    },
    {
      "cell_type": "code",
      "metadata": {
        "id": "K-SqN5JWvzwE"
      },
      "source": [
        "strdata = 'abcde'                      # 문자열은 시퀀스 자료형\n",
        "listdata = [1, [2, 3], '안녕']         # 리스트는 시퀀스 자료형\n",
        "tupledata = (100, 200, 300)            # 튜플은 시퀀스 자료형\n"
      ],
      "execution_count": 9,
      "outputs": []
    },
    {
      "cell_type": "markdown",
      "metadata": {
        "id": "NnhVDfsTxve5"
      },
      "source": [
        "문자열: 문자나 기호들이 순서대로 나열되어 있는 시퀀스 자료형  \n",
        "리스트: 임의의 객체가 순서대로 나열되어 있는 시퀀스 자료형  \n",
        "튜플: 리스트와 마찬가지로 값을 변경할 수 없는 임의이 객체가 나열되어 있는 시퀀스 자료형"
      ]
    },
    {
      "cell_type": "markdown",
      "metadata": {
        "id": "Xjk_sDlUx2b9"
      },
      "source": [
        "인덱싱 : 인덱스를 통해 해당 값에 전급 가능, 인덱스는 0부터 시작  \n",
        "슬라이싱 : 특정 구간의 값을 취할 수 있음, 구간은 시작 인덱스와 끝 인덱스로 정의  \n",
        "연결 : '+'연산자를 이용해 두 시퀀스 자료를 연결하여 새로운 시퀀스 자료 생성  \n",
        "반복 : '*'연산자를 이용해 시퀀스 자료를 여러 번 바복하여 새로운 시퀀스 자료 생성  \n",
        "멤버체크 ; 'in'키워드를 사용하여 특정 값이 시퀀스 자료의 요소로 속해 있는지 확인 가능  \n",
        "크기정보 : len()을 이용해 시퀀스 자료의 크기를 알 수 있음, 시퀀스 자료의 크기는 문자열의 경우 문자의 개수, 리스트와 튜플의 경우 멤버의 개수"
      ]
    },
    {
      "cell_type": "code",
      "metadata": {
        "colab": {
          "base_uri": "https://localhost:8080/"
        },
        "id": "MEBxVVlmzcUg",
        "outputId": "7e272668-90be-4aac-ee9f-a4e6b26de031"
      },
      "source": [
        "# 27. 시퀀스 자료 인덱싱 이해하기\n",
        "strdata = 'Time is money!!'\n",
        "listdata = [1, 2, [1, 2, 3]]\n",
        "print(strdata[5])         # 'i' 출력\n",
        "print(strdata[-2])        # '!' 출력\n",
        "print(listdata[0])        #  1  출력\n",
        "print(listdata[-1])       #  [1,2,3] 출력\n",
        "print(listdata[2][-1])    #  3 출력"
      ],
      "execution_count": 10,
      "outputs": [
        {
          "output_type": "stream",
          "text": [
            "i\n",
            "!\n",
            "1\n",
            "[1, 2, 3]\n",
            "3\n"
          ],
          "name": "stdout"
        }
      ]
    },
    {
      "cell_type": "markdown",
      "metadata": {
        "id": "wWp1jzbxzc63"
      },
      "source": [
        "인덱싱 : 시퀀스 자료형에서 인덱스를 통해 해당하는 값을 얻는 방법,   \n",
        "파이썬 인덱스는 0부터 시작"
      ]
    },
    {
      "cell_type": "markdown",
      "metadata": {
        "id": "8_coSMftzi_e"
      },
      "source": [
        "# 28. 시퀀스 자료 슬라이싱 이해"
      ]
    },
    {
      "cell_type": "code",
      "metadata": {
        "colab": {
          "base_uri": "https://localhost:8080/"
        },
        "id": "hAiYufY42C3U",
        "outputId": "8a7d4a60-5c54-4273-94a4-656ab6d47e4a"
      },
      "source": [
        "strdata = 'Time is money!!'\n",
        "print(strdata[1:5])      # 'ime' 출력\n",
        "print(strdata[:7])       # 'Time is' 출력\n",
        "print(strdata[9:])       # 'oney!!' 출력\n",
        "print(strdata[:-3])      # 'Time is mone' 출력\n",
        "print(strdata[-3:])      # 'y!!' 출력\n",
        "print(strdata[:])        # 'Time is moeny!!' 출력\n",
        "print(strdata[::2])      # 'Tm smmy!' 출력"
      ],
      "execution_count": 11,
      "outputs": [
        {
          "output_type": "stream",
          "text": [
            "ime \n",
            "Time is\n",
            "oney!!\n",
            "Time is mone\n",
            "y!!\n",
            "Time is money!!\n",
            "Tm smny!\n"
          ],
          "name": "stdout"
        }
      ]
    },
    {
      "cell_type": "markdown",
      "metadata": {
        "id": "OWF08Szr2lo0"
      },
      "source": [
        "슬라이싱 : 시퀀스 자료에서 일정 범위에 해당하는 부분을 취하는 방법\n",
        "\n",
        "[ 시작 인덱스: 끝 인덱스: 스텝 ]\n",
        "\n",
        "* 시작 인덱스: 슬라이싱 범위의 시작\n",
        "* 끝 인덱스: 슬라이싱 범위의 끝\n",
        "* 스텝: 자료를 취하는 간격\n",
        "\n",
        "스텝은 생략가능, 디폴트 값은 1"
      ]
    },
    {
      "cell_type": "markdown",
      "metadata": {
        "id": "jFL3q6ih23yc"
      },
      "source": [
        "[m:n] : 시퀀스 자료의 인덱스가 m 이상 n 미만 요소 슬라이싱  \n",
        "[:n] : 시퀀스 자료의 처음부터 인덱스가 n미만인 요소까지 슬라이싱  \n",
        "[m:] : 시퀀스 자료의 인덱스가 m인 요소부터 시퀀스 자료의 끝까지 슬라이싱  \n",
        "[:-n]: 시퀀스 자료의 처음부터 끝에서 n번째 미만인 요소까지 슬라이싱  \n",
        "[-m:]: 시퀀스 자료의 끝에서 m번째 요소부터 시퀀스 자료의 끝까지 슬라이싱 "
      ]
    },
    {
      "cell_type": "markdown",
      "metadata": {
        "id": "xiniZUI34qAW"
      },
      "source": [
        "# 29. 시퀀스 자료 연결 이해하기 (+)"
      ]
    },
    {
      "cell_type": "code",
      "metadata": {
        "colab": {
          "base_uri": "https://localhost:8080/"
        },
        "id": "bBhLI5VI41qk",
        "outputId": "e26c0ff9-4e8d-4bd4-d261-c8ee7c3a4424"
      },
      "source": [
        "strdata1= 'I love '; strdata2 = 'Python'; strdata3 = 'you'\n",
        "listdata1 = [1,2,3]; listdata2 = [4,5,6]\n",
        "print(strdata1 + strdata2)         # 'I love Python'\n",
        "print(strdata1 + strdata3)         # 'I love you'\n",
        "print(listdata1 + listdata2)       # [1,2,3,4,5,6]"
      ],
      "execution_count": 12,
      "outputs": [
        {
          "output_type": "stream",
          "text": [
            "I love Python\n",
            "I love you\n",
            "[1, 2, 3, 4, 5, 6]\n"
          ],
          "name": "stdout"
        }
      ]
    },
    {
      "cell_type": "markdown",
      "metadata": {
        "id": "1EVnlyW25LkX"
      },
      "source": [
        "자료형이 동일한 두 개의 시퀀스 자료는 +연산자로 순서있게 연결  \n",
        "문자열 + 문자열  \n",
        "리스트 + 리스트  \n",
        "튜플 + 튜플  "
      ]
    },
    {
      "cell_type": "markdown",
      "metadata": {
        "id": "XV6FKCEE5egD"
      },
      "source": [
        "# 30. 시퀀스 자료 반복 이해하기(*)"
      ]
    },
    {
      "cell_type": "code",
      "metadata": {
        "colab": {
          "base_uri": "https://localhost:8080/"
        },
        "id": "ycjSsX_p5qY3",
        "outputId": "ea34d786-8660-470c-df38-9d7c9623ccd5"
      },
      "source": [
        "artist = '빅뱅'\n",
        "sing = '뱅~'\n",
        "dispdata = artist + '이 부르는' + sing*3\n",
        "print(dispdata)"
      ],
      "execution_count": 14,
      "outputs": [
        {
          "output_type": "stream",
          "text": [
            "빅뱅이 부르는뱅~뱅~뱅~\n"
          ],
          "name": "stdout"
        }
      ]
    },
    {
      "cell_type": "markdown",
      "metadata": {
        "id": "J4iqx0Bh5r8A"
      },
      "source": [
        "동일한 시퀀스 자료를 반복하여 새로운 시퀀스 자료를 만들고자 하면 '*' 연산자 사용"
      ]
    },
    {
      "cell_type": "code",
      "metadata": {
        "id": "UuMDL_Ss55a9"
      },
      "source": [
        ""
      ],
      "execution_count": null,
      "outputs": []
    }
  ]
}
