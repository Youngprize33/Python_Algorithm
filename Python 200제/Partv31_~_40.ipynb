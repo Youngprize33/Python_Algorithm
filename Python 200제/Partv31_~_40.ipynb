{
  "nbformat": 4,
  "nbformat_minor": 0,
  "metadata": {
    "colab": {
      "name": "Partv31 ~ 40.ipynb",
      "provenance": [],
      "authorship_tag": "ABX9TyOorBnDEW/jQrMcejCVhQD2"
    },
    "kernelspec": {
      "name": "python3",
      "display_name": "Python 3"
    },
    "language_info": {
      "name": "python"
    }
  },
  "cells": [
    {
      "cell_type": "markdown",
      "metadata": {
        "id": "Bny4XVgrywCr"
      },
      "source": [
        "# 31번 시퀀스 자료 크기 이해하기(len)"
      ]
    },
    {
      "cell_type": "code",
      "metadata": {
        "colab": {
          "base_uri": "https://localhost:8080/"
        },
        "id": "tPetq-Fty2P0",
        "outputId": "d50b53c2-1e07-4e84-da5e-010130d2ba75"
      },
      "source": [
        "strdata1 = 'I love python'\n",
        "strdata2 = '나는 파이썬을 사랑합니다'\n",
        "listdata = ['a', 'b', 'c', strdata1, strdata2]\n",
        "print(len(strdata1))         \n",
        "print(len(strdata2))\n",
        "print(len(listdata))\n",
        "print(len(listdata[3]))"
      ],
      "execution_count": 13,
      "outputs": [
        {
          "output_type": "stream",
          "text": [
            "13\n",
            "13\n",
            "5\n",
            "13\n"
          ],
          "name": "stdout"
        }
      ]
    },
    {
      "cell_type": "markdown",
      "metadata": {
        "id": "1fxXsqTdzG7n"
      },
      "source": [
        "모든 시퀀스 자료느느 고정된 길이 or 크기 보유  \n",
        "시퀀스 자료의 크기는 구성 요소의 개수  \n",
        "스트와 튜플은 임의의 객체가 콤마(,)로 구분  \n",
        "문자열의 크기는 문자의 개수  \n",
        "리스트와 튜플의 크기는 콤마로 구분되어 있는 요소의 개수  "
      ]
    },
    {
      "cell_type": "markdown",
      "metadata": {
        "id": "WD5ngpHWzm1l"
      },
      "source": [
        "# 32번 멤버체크 이해하기(in)"
      ]
    },
    {
      "cell_type": "code",
      "metadata": {
        "colab": {
          "base_uri": "https://localhost:8080/"
        },
        "id": "CJlOlUhcz8px",
        "outputId": "8ef1cdd6-c77c-4811-b51b-2d0269d315f1"
      },
      "source": [
        "listdata = [1,2,3,4]\n",
        "ret1 = 5 in listdata\n",
        "ret2 = 4 in listdata\n",
        "print(ret1); print(ret2)\n",
        "strdata = 'abcde'\n",
        "ret3 = 'c' in strdata\n",
        "ret4 = 'l' in strdata\n",
        "print(ret3); print(ret4)"
      ],
      "execution_count": 14,
      "outputs": [
        {
          "output_type": "stream",
          "text": [
            "False\n",
            "True\n",
            "True\n",
            "False\n"
          ],
          "name": "stdout"
        }
      ]
    },
    {
      "cell_type": "markdown",
      "metadata": {
        "id": "QWMZKZUv0I2d"
      },
      "source": [
        "in은 자료에 어떤 값이 있는지 확읺 때 사용하는 키워드  \n",
        "```python\n",
        "<값> in <자료>\n",
        "```"
      ]
    },
    {
      "cell_type": "markdown",
      "metadata": {
        "id": "HlC3D-2B0Vs2"
      },
      "source": [
        "값이 있으면 True, 없으면 False"
      ]
    },
    {
      "cell_type": "markdown",
      "metadata": {
        "id": "bd1FkNIe0Xhz"
      },
      "source": [
        "#33 문자열 이해하기"
      ]
    },
    {
      "cell_type": "code",
      "metadata": {
        "id": "bqWYJjUt0gqm"
      },
      "source": [
        "strdata = '나는 파이썬 프로그래머다'\n",
        "strdata2 = 'You are a programmer'\n",
        "strdata3 = \"\"\"I love \n",
        "      python. You love\n",
        "python too!\n",
        "\"\"\"\n",
        "strdata4 = \"My son's name is John\"\n",
        "strdata5 = '문자열\"abc\"의 길이는 3입니다.'"
      ],
      "execution_count": 15,
      "outputs": []
    },
    {
      "cell_type": "code",
      "metadata": {
        "colab": {
          "base_uri": "https://localhost:8080/"
        },
        "id": "ZnvEctyJ03HS",
        "outputId": "9b59c0a7-ac88-4bff-f7c6-f2efd687f0e1"
      },
      "source": [
        "print(strdata)\n",
        "print(strdata2)\n",
        "print(strdata3)\n",
        "print(strdata4)\n",
        "print(strdata5)"
      ],
      "execution_count": 16,
      "outputs": [
        {
          "output_type": "stream",
          "text": [
            "나는 파이썬 프로그래머다\n",
            "You are a programmer\n",
            "I love \n",
            "      python. You love\n",
            "python too!\n",
            "\n",
            "My son's name is John\n",
            "문자열\"abc\"의 길이는 3입니다.\n"
          ],
          "name": "stdout"
        }
      ]
    },
    {
      "cell_type": "markdown",
      "metadata": {
        "id": "zn_QWWwa0-kd"
      },
      "source": [
        "문자열은 문자나 기호가 순서로 나열되어 있는 시퀀스 자료  \n",
        "```python\n",
        "''\n",
        "\"\"\n",
        "\"\"\" \"\"\"\n",
        "\" ' ' \"\n",
        "' \" \" '\n",
        "```\n",
        "형태로 운영 가능\n"
      ]
    },
    {
      "cell_type": "markdown",
      "metadata": {
        "id": "OU-QvzTH1PUf"
      },
      "source": [
        "#34번 문자열 포맷팅 이해하기"
      ]
    },
    {
      "cell_type": "code",
      "metadata": {
        "colab": {
          "base_uri": "https://localhost:8080/"
        },
        "id": "-0gKOnl61SYb",
        "outputId": "a7d7c24c-2b20-459c-b739-0c47f1b4c855"
      },
      "source": [
        "txt1 = '자바'; txt2 = '파이썬'\n",
        "num1 = 5; num2 = 10\n",
        "print('나는 %s 보다 %s에 더 익숙합니다.' %(txt1, txt2))\n",
        "print('%s은 %s보다 %d배 더 쉽습니다.'%(txt2, txt1, num1))\n",
        "print('%d + %d = %d'%(num1, num2, num1+num2))\n",
        "print('작년 세계 경제성장률은 작년에 비해 %d%%포인트 증가했다.' %(num1))"
      ],
      "execution_count": 24,
      "outputs": [
        {
          "output_type": "stream",
          "text": [
            "나는 자바 보다 파이썬에 더 익숙합니다.\n",
            "파이썬은 자바보다 5배 더 쉽습니다.\n",
            "5 + 10 = 15\n",
            "작년 세계 경제성장률은 작년에 비해 5%포인트 증가했다.\n"
          ],
          "name": "stdout"
        }
      ]
    },
    {
      "cell_type": "markdown",
      "metadata": {
        "id": "SJ9y5c2a2d3f"
      },
      "source": [
        "문자열 포맷팅이란변하는 값을 포함하는 문자열을 표현하기 위해 하나의 양식으로 문자열을 만드는 것\n",
        "\n",
        "문자열 포맷팅에서 변하는값을 나타내기 위해 사용되는 기호를 '포맷 문자열'이라고 함\n",
        "\n",
        "Ex)  \n",
        "%s : 문자열에 대응  \n",
        "%c : 문자나 기호 한 개에 대응  \n",
        "%f : 실수에 대응  \n",
        "%d : 정수에 대응  \n",
        "%% : '%'라는 기호 자체를 표시  "
      ]
    },
    {
      "cell_type": "markdown",
      "metadata": {
        "id": "QbBGHNWp1x88"
      },
      "source": [
        "파일을 다운로드 받거나 복사를 하는 경우 진행 상황을 사용자에게 피드백하는 가장 일반적인 방법은 GUI 환경에서는 프록래스바로, 명령 프롬프트에서는 %로 진행률을 표시"
      ]
    },
    {
      "cell_type": "code",
      "metadata": {
        "colab": {
          "base_uri": "https://localhost:8080/"
        },
        "id": "Zey-YO8E59RX",
        "outputId": "872b138d-489f-4444-d516-5947c50eb318"
      },
      "source": [
        "from time import sleep\n",
        "for i in range(10):\n",
        "  msg = '\\r 진행률 %d%%'%(i+1)\n",
        "  print(''*len(msg), end='')\n",
        "  print(msg, end=\"\")\n",
        "  sleep(0.1)"
      ],
      "execution_count": 27,
      "outputs": [
        {
          "output_type": "stream",
          "text": [
            " 진행률 10%"
          ],
          "name": "stdout"
        }
      ]
    },
    {
      "cell_type": "markdown",
      "metadata": {
        "id": "LhdW8gdV6Oit"
      },
      "source": [
        "msg를 캐리지 리턴 문자'\\r'을 추가하여 문자열 포맷팅을 이용 및 구성,  \n",
        " print(''*len(msg),end='')로 msg 길이만큼 공백문자를 줄바꿈 없이 화면에 출력  \n",
        " 그런 후 print(msg, end'')로 msg 출력  \n",
        " 캐리지 리턴은 현재 위치를 나타내는 커서를 화면 맨 앞으로 이동하라는 의미"
      ]
    },
    {
      "cell_type": "markdown",
      "metadata": {
        "id": "eXoKj3sq6npH"
      },
      "source": [
        "#35번 이스케이프 문자 이해하기"
      ]
    },
    {
      "cell_type": "code",
      "metadata": {
        "colab": {
          "base_uri": "https://localhost:8080/"
        },
        "id": "MIff0Fi463dU",
        "outputId": "6e723ee5-80a9-44c2-e413-a6c48846e24d"
      },
      "source": [
        "print('나는 파이썬을 사랑합니다. \\n파이썬은 자바보다 훨씬 쉽습니다.')\n",
        "print('Name:John smith \\tSex:Male\\tAge:22')\n",
        "print('이 문장은 화면폭에 비해 너무 길어 보기가 힘듭니다.\\\n",
        "그래서 \\\\Enter키를 이용해 문장을 다음줄과 연속되도록 했습니다.')\n",
        "print('작은따옴표(\\')와 큰 따옴표(\")는 문자열을 정의할 때 사용합니다.')"
      ],
      "execution_count": 33,
      "outputs": [
        {
          "output_type": "stream",
          "text": [
            "나는 파이썬을 사랑합니다. \n",
            "파이썬은 자바보다 훨씬 쉽습니다.\n",
            "Name:John smith \tSex:Male\tAge:22\n",
            "이 문장은 화면폭에 비해 너무 길어 보기가 힘듭니다.그래서 \\Enter키를 이용해 문장을 다음줄과 연속되도록 했습니다.\n",
            "작은따옴표(')와 큰 따옴표(\")는 문자열을 정의할 때 사용합니다.\n"
          ],
          "name": "stdout"
        }
      ]
    },
    {
      "cell_type": "markdown",
      "metadata": {
        "id": "VSYQi4fG7T7N"
      },
      "source": [
        "이스케이프 문자는 키보드로 입력하기 어려운 기호를 나타내기 위해 역슬래쉬'\\'로 시작하는 문자  \n",
        "인용부호 안에 동일한 인용부호를 입력하는 경우에도 이스케이프 문자가 사용"
      ]
    },
    {
      "cell_type": "markdown",
      "metadata": {
        "id": "nOQTj2qF7pH3"
      },
      "source": [
        "\\n : 줄바꾸기 \n",
        "\\t : 탭  \n",
        "\\enter : 줄 계속(다음 줄도 계속되는 줄이라는 표시)  \n",
        "\\\\ : '\\' 기호 자체  \n",
        "\\' 또는 \\\" : '기호 또는 \" 기호 자체  "
      ]
    },
    {
      "cell_type": "markdown",
      "metadata": {
        "id": "rIzmIkfC75we"
      },
      "source": [
        "#36번 리스트 이해하기([ ])"
      ]
    },
    {
      "cell_type": "code",
      "metadata": {
        "colab": {
          "base_uri": "https://localhost:8080/"
        },
        "id": "tNHRXIAAGdjP",
        "outputId": "afd51f5c-c1c9-4379-aa1b-5f153bebecdb"
      },
      "source": [
        "list1 = [1,2,3,4,5]\n",
        "list2 = ['a','b','c']\n",
        "list3 = [1,'a','abc',[1,2,3,4,5],['a','b','c']]\n",
        "list1[0] = 6\n",
        "print(list1)\n",
        "def myfunc():\n",
        "  print('안녕하세요')\n",
        "list4 = [1,2,myfunc]\n",
        "list4[2]()"
      ],
      "execution_count": 1,
      "outputs": [
        {
          "output_type": "stream",
          "text": [
            "[6, 2, 3, 4, 5]\n",
            "안녕하세요\n"
          ],
          "name": "stdout"
        }
      ]
    },
    {
      "cell_type": "markdown",
      "metadata": {
        "id": "1IuCoxRdGuiC"
      },
      "source": [
        "리스트는 시퀀스 자료형 중 하나  \n",
        "안에 요소를 콤마로 구분하여 순서있게 나열  \n",
        "리스트의 요소는 임이의 객체 가능  \n",
        "임의의 객체란 숫자, 문자, 문자열, 리스트, 튜플, 딕셔너리 등 파이썬 자료형과 함수, 클래스 등을 말함"
      ]
    },
    {
      "cell_type": "markdown",
      "metadata": {
        "id": "oZb5zpb2G8KY"
      },
      "source": [
        "#37번 튜플 이해하기(( ))"
      ]
    },
    {
      "cell_type": "code",
      "metadata": {
        "colab": {
          "base_uri": "https://localhost:8080/",
          "height": 251
        },
        "id": "pfUa8hUJHSpL",
        "outputId": "ae24e78a-8770-4cdd-8bd5-07d759aafae1"
      },
      "source": [
        "tuple1 = (1,2,3,4,5)\n",
        "tuple2 = ('a','b','c')\n",
        "tuple3 = (1,'a','abc',[1,2,3,4,5],['a','b','c'])\n",
        "tuple1[0] = 6\n",
        "\n",
        "def myfunc():\n",
        "  print('안녕하세요')\n",
        "\n",
        "tuple4 = (1,2,myfunc)\n",
        "tuple4[2]()"
      ],
      "execution_count": 3,
      "outputs": [
        {
          "output_type": "error",
          "ename": "TypeError",
          "evalue": "ignored",
          "traceback": [
            "\u001b[0;31m---------------------------------------------------------------------------\u001b[0m",
            "\u001b[0;31mTypeError\u001b[0m                                 Traceback (most recent call last)",
            "\u001b[0;32m<ipython-input-3-118a3fd2d1de>\u001b[0m in \u001b[0;36m<module>\u001b[0;34m()\u001b[0m\n\u001b[1;32m      2\u001b[0m \u001b[0mtuple2\u001b[0m \u001b[0;34m=\u001b[0m \u001b[0;34m(\u001b[0m\u001b[0;34m'a'\u001b[0m\u001b[0;34m,\u001b[0m\u001b[0;34m'b'\u001b[0m\u001b[0;34m,\u001b[0m\u001b[0;34m'c'\u001b[0m\u001b[0;34m)\u001b[0m\u001b[0;34m\u001b[0m\u001b[0;34m\u001b[0m\u001b[0m\n\u001b[1;32m      3\u001b[0m \u001b[0mtuple3\u001b[0m \u001b[0;34m=\u001b[0m \u001b[0;34m(\u001b[0m\u001b[0;36m1\u001b[0m\u001b[0;34m,\u001b[0m\u001b[0;34m'a'\u001b[0m\u001b[0;34m,\u001b[0m\u001b[0;34m'abc'\u001b[0m\u001b[0;34m,\u001b[0m\u001b[0;34m[\u001b[0m\u001b[0;36m1\u001b[0m\u001b[0;34m,\u001b[0m\u001b[0;36m2\u001b[0m\u001b[0;34m,\u001b[0m\u001b[0;36m3\u001b[0m\u001b[0;34m,\u001b[0m\u001b[0;36m4\u001b[0m\u001b[0;34m,\u001b[0m\u001b[0;36m5\u001b[0m\u001b[0;34m]\u001b[0m\u001b[0;34m,\u001b[0m\u001b[0;34m[\u001b[0m\u001b[0;34m'a'\u001b[0m\u001b[0;34m,\u001b[0m\u001b[0;34m'b'\u001b[0m\u001b[0;34m,\u001b[0m\u001b[0;34m'c'\u001b[0m\u001b[0;34m]\u001b[0m\u001b[0;34m)\u001b[0m\u001b[0;34m\u001b[0m\u001b[0;34m\u001b[0m\u001b[0m\n\u001b[0;32m----> 4\u001b[0;31m \u001b[0mtuple1\u001b[0m\u001b[0;34m[\u001b[0m\u001b[0;36m0\u001b[0m\u001b[0;34m]\u001b[0m \u001b[0;34m=\u001b[0m \u001b[0;36m6\u001b[0m\u001b[0;34m\u001b[0m\u001b[0;34m\u001b[0m\u001b[0m\n\u001b[0m\u001b[1;32m      5\u001b[0m \u001b[0;34m\u001b[0m\u001b[0m\n\u001b[1;32m      6\u001b[0m \u001b[0;32mdef\u001b[0m \u001b[0mmyfunc\u001b[0m\u001b[0;34m(\u001b[0m\u001b[0;34m)\u001b[0m\u001b[0;34m:\u001b[0m\u001b[0;34m\u001b[0m\u001b[0;34m\u001b[0m\u001b[0m\n",
            "\u001b[0;31mTypeError\u001b[0m: 'tuple' object does not support item assignment"
          ]
        }
      ]
    },
    {
      "cell_type": "markdown",
      "metadata": {
        "id": "xozNlMu2HkfS"
      },
      "source": [
        "튜플은 리스트와 비슷한 성질을 갖지만 요소의 값을 변경할 수 없다.  \n",
        "튜플은 리스트와 마찬가지로 임의의 객체를 요소로 가질 수 있는 시퀀스 자료형  \n",
        "tuple[0] = 6 수식이 오류 발생\n",
        "\n",
        "TypeError: 'tuple' object does not support item assignment"
      ]
    },
    {
      "cell_type": "markdown",
      "metadata": {
        "id": "ZfFDACELH3h5"
      },
      "source": [
        "#38번 딕셔너리(사전) 이해하기({ })"
      ]
    },
    {
      "cell_type": "code",
      "metadata": {
        "colab": {
          "base_uri": "https://localhost:8080/"
        },
        "id": "2DJ0f0kCICBr",
        "outputId": "494fdb8f-f817-4b04-c64f-bb21625ca403"
      },
      "source": [
        "dict1 = {'a':1, 'b':2, 'c':3}\n",
        "print(dict1['a'])\n",
        "dict1['d'] = 4\n",
        "print(dict1)\n",
        "dict1['b'] = 7\n",
        "print(dict1)\n",
        "print(len(dict1))"
      ],
      "execution_count": 4,
      "outputs": [
        {
          "output_type": "stream",
          "text": [
            "1\n",
            "{'a': 1, 'b': 2, 'c': 3, 'd': 4}\n",
            "{'a': 1, 'b': 7, 'c': 3, 'd': 4}\n",
            "4\n"
          ],
          "name": "stdout"
        }
      ]
    },
    {
      "cell_type": "markdown",
      "metadata": {
        "id": "vjfmEHPXIM3-"
      },
      "source": [
        "사전(딕셔너리)는 키와 값을 하나의 요소로 하는 순서가 없는 집합  \n",
        "따라서 딕셔너리는 시퀀스 자료형 X  \n",
        "인덱싱으로 값에 접근 불가  "
      ]
    },
    {
      "cell_type": "markdown",
      "metadata": {
        "id": "2AwcfZ70IgQB"
      },
      "source": [
        "#39번 함수 이해하기(def)"
      ]
    },
    {
      "cell_type": "code",
      "metadata": {
        "colab": {
          "base_uri": "https://localhost:8080/"
        },
        "id": "9395dBRybGVA",
        "outputId": "c0a81db5-dc0e-4669-9b6e-f7148c349126"
      },
      "source": [
        "def add_number(n1, n2):\n",
        "  ret = n1 + n2\n",
        "  return ret\n",
        "\n",
        "def add_txt(t1, t2):\n",
        "  print(t1 + t2)\n",
        "\n",
        "ans = add_number(10, 15)\n",
        "print(ans)\n",
        "test1 = '대한민국~'\n",
        "text2 = '만세!'\n",
        "add_txt(test1, text2)"
      ],
      "execution_count": 5,
      "outputs": [
        {
          "output_type": "stream",
          "text": [
            "25\n",
            "대한민국~만세!\n"
          ],
          "name": "stdout"
        }
      ]
    },
    {
      "cell_type": "markdown",
      "metadata": {
        "id": "WA1qBqTqbUoG"
      },
      "source": [
        "함수란 특정 목적을 가진 코드의 집합, 독립적으로 호출될 수 있는 것"
      ]
    },
    {
      "cell_type": "markdown",
      "metadata": {
        "id": "AtDe3urrbagD"
      },
      "source": [
        "인자와 리턴값이 있는 함수 선언 방법\n",
        "```python\n",
        "def 함수이름(인자1, 인자2, ...):\n",
        "  코드들\n",
        "  return 결과값\n",
        "```"
      ]
    },
    {
      "cell_type": "markdown",
      "metadata": {
        "id": "b5fZfJIIbjAP"
      },
      "source": [
        "리턴값은 있지만 인자가 없는 함수 선언 방법\n",
        "```python\n",
        "def 함수이름():\n",
        "  코드들\n",
        "  return ㄹ과값\n",
        "```"
      ]
    },
    {
      "cell_type": "markdown",
      "metadata": {
        "id": "VHlsM1ccbpUF"
      },
      "source": [
        "인자와 리턴값이 없는 함수 선언 방법\n",
        "```python\n",
        "def 함수이름():\n",
        "  코드들\n",
        "  return(또는 생략)\n",
        "```"
      ]
    },
    {
      "cell_type": "markdown",
      "metadata": {
        "id": "Zn_bJZQObxTO"
      },
      "source": [
        "인자와 리턴값이 있는 함수 호출 방법\n",
        "```python\n",
        "변수 = 함수이름(값1, 값2, ...)\n",
        "```"
      ]
    },
    {
      "cell_type": "markdown",
      "metadata": {
        "id": "O3F1VMv5cAhg"
      },
      "source": [
        "리턴값이 없는 함수 호출 방법\n",
        "```python\n",
        "함수이름(값1, 값2, ...)\n",
        "```"
      ]
    },
    {
      "cell_type": "markdown",
      "metadata": {
        "id": "cFDRPtx9cF9U"
      },
      "source": [
        "인자와 리턴값이 없는 함수 호출 방법\n",
        "```python\n",
        "함수이름()\n",
        "```"
      ]
    },
    {
      "cell_type": "markdown",
      "metadata": {
        "id": "g1qzcoW1cJex"
      },
      "source": [
        "함수는 ㅈ사용 목적이 아니더라도 복잡한 알고리즘을 독립적인 영역에서 따로 구현함으로써 소스 코드의 가독성을 높일 수 있게 해줌"
      ]
    },
    {
      "cell_type": "markdown",
      "metadata": {
        "id": "2cZebHqlcRcH"
      },
      "source": [
        "#40 함수 인자 이해하기"
      ]
    },
    {
      "cell_type": "code",
      "metadata": {
        "colab": {
          "base_uri": "https://localhost:8080/"
        },
        "id": "tzPV_SU2cYcQ",
        "outputId": "e84e6327-f647-4607-bd97-0bcb9435f71d"
      },
      "source": [
        "def add_txt(t1, t2 = '파이썬'):\n",
        "  print(t1+':'+t2)\n",
        "\n",
        "add_txt('베스트')\n",
        "add_txt(t2='대한민국',t1='1등')\n",
        "\n",
        "def func1(*args):\n",
        "  print(args)\n",
        "\n",
        "def func2(width, height, **kwargs):\n",
        "  print(kwargs)\n",
        "\n",
        "func1()\n",
        "func1(3,5,1,5)\n",
        "func2(10, 20)\n",
        "func2(10, 20, depth=50, color='blue')"
      ],
      "execution_count": 7,
      "outputs": [
        {
          "output_type": "stream",
          "text": [
            "베스트:파이썬\n",
            "1등:대한민국\n",
            "()\n",
            "(3, 5, 1, 5)\n",
            "{}\n",
            "{'depth': 50, 'color': 'blue'}\n"
          ],
          "name": "stdout"
        }
      ]
    },
    {
      "cell_type": "code",
      "metadata": {
        "id": "bo8dYfc8cwAZ"
      },
      "source": [
        ""
      ],
      "execution_count": null,
      "outputs": []
    }
  ]
}
