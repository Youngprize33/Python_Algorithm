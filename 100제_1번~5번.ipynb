{
  "nbformat": 4,
  "nbformat_minor": 0,
  "metadata": {
    "colab": {
      "name": "100제 1번~5번.ipynb",
      "provenance": [],
      "authorship_tag": "ABX9TyO+TIugeXHSzylkdJ9/qZ5r"
    },
    "kernelspec": {
      "name": "python3",
      "display_name": "Python 3"
    },
    "language_info": {
      "name": "python"
    }
  },
  "cells": [
    {
      "cell_type": "markdown",
      "metadata": {
        "id": "IzrV96Y0LhO5"
      },
      "source": [
        "# 문제1 : 리스트의 삭제\n",
        "\n",
        "다음 리스트에서 400, 500을 삭제하는 code를 입력하시오."
      ]
    },
    {
      "cell_type": "code",
      "metadata": {
        "id": "UVF2y__FLkEZ"
      },
      "source": [
        "num = [100, 200, 300, 400, 500]"
      ],
      "execution_count": null,
      "outputs": []
    },
    {
      "cell_type": "code",
      "metadata": {
        "colab": {
          "base_uri": "https://localhost:8080/"
        },
        "id": "b-wmOHPdLHhw",
        "outputId": "8c4e3292-9e74-4977-8c73-b453f640ec07"
      },
      "source": [
        "num"
      ],
      "execution_count": null,
      "outputs": [
        {
          "output_type": "execute_result",
          "data": {
            "text/plain": [
              "[100, 200, 300, 400, 500]"
            ]
          },
          "metadata": {
            "tags": []
          },
          "execution_count": 3
        }
      ]
    },
    {
      "cell_type": "code",
      "metadata": {
        "colab": {
          "base_uri": "https://localhost:8080/"
        },
        "id": "VuMhKMfeLfWI",
        "outputId": "4dd25c12-4f93-4781-bc13-e9ef08aaeb0e"
      },
      "source": [
        "del num[3:5]\n",
        "num"
      ],
      "execution_count": null,
      "outputs": [
        {
          "output_type": "execute_result",
          "data": {
            "text/plain": [
              "[100, 200, 300]"
            ]
          },
          "metadata": {
            "tags": []
          },
          "execution_count": 4
        }
      ]
    },
    {
      "cell_type": "code",
      "metadata": {
        "id": "AxAV3IPGL5wg"
      },
      "source": [
        "num = [100, 200, 300, 400, 500]"
      ],
      "execution_count": null,
      "outputs": []
    },
    {
      "cell_type": "code",
      "metadata": {
        "colab": {
          "base_uri": "https://localhost:8080/"
        },
        "id": "D9t8dHZaMLk1",
        "outputId": "21cb199d-6e60-4b77-82cc-63c3b76a6461"
      },
      "source": [
        "num.remove(400) \n",
        "num.remove(500)\n",
        "num"
      ],
      "execution_count": null,
      "outputs": [
        {
          "output_type": "execute_result",
          "data": {
            "text/plain": [
              "[100, 200, 300]"
            ]
          },
          "metadata": {
            "tags": []
          },
          "execution_count": 6
        }
      ]
    },
    {
      "cell_type": "markdown",
      "metadata": {
        "id": "FqmXolAyAuUo"
      },
      "source": [
        "# 문제2 : 리스트의 내장함수"
      ]
    },
    {
      "cell_type": "markdown",
      "metadata": {
        "id": "xv68mxeeA1Z_"
      },
      "source": [
        "\n",
        "\n",
        "```python\n",
        "ㅣ = [200, 100, 300]\n",
        "<pass>\n",
        "print(1)\n",
        "```\n",
        "\n"
      ]
    },
    {
      "cell_type": "markdown",
      "metadata": {
        "id": "3TsVT5jMA7TU"
      },
      "source": [
        "<pass> 부분에 리스트 내장함수를 insert를 이용하여 코드를 입력하고 다음과 같이 출력"
      ]
    },
    {
      "cell_type": "markdown",
      "metadata": {
        "id": "S25-B-4eBBwH"
      },
      "source": [
        "```python\n",
        "[200, 100, 10000, 300]\n",
        "```"
      ]
    },
    {
      "cell_type": "code",
      "metadata": {
        "colab": {
          "base_uri": "https://localhost:8080/"
        },
        "id": "SZTMdnYQBGBl",
        "outputId": "865792f7-e264-4606-f889-809f269929d4"
      },
      "source": [
        "l = [200, 100, 300]\n",
        "\n",
        "l.insert(2,10000)\n",
        "\n",
        "print(l)"
      ],
      "execution_count": null,
      "outputs": [
        {
          "output_type": "stream",
          "text": [
            "[200, 100, 10000, 300]\n"
          ],
          "name": "stdout"
        }
      ]
    },
    {
      "cell_type": "markdown",
      "metadata": {
        "id": "XmqKPFa0BgIx"
      },
      "source": [
        "# 문제3 : 변수의 타입"
      ]
    },
    {
      "cell_type": "markdown",
      "metadata": {
        "id": "9BH4E5jKBncO"
      },
      "source": [
        "다음 중 출력 값으로 올바른 것은?\n",
        "```python\n",
        "ㅣ = [100, 200, 300]\n",
        "print(type(l))\n",
        "```"
      ]
    },
    {
      "cell_type": "code",
      "metadata": {
        "colab": {
          "base_uri": "https://localhost:8080/"
        },
        "id": "RbIlP77ABwEE",
        "outputId": "e784a2ef-351d-4a6f-9c81-deffd6535011"
      },
      "source": [
        "l = [100, 200, 300]\n",
        "print(type(l))"
      ],
      "execution_count": null,
      "outputs": [
        {
          "output_type": "stream",
          "text": [
            "<class 'list'>\n"
          ],
          "name": "stdout"
        }
      ]
    },
    {
      "cell_type": "markdown",
      "metadata": {
        "id": "IoI8_yg4B0cZ"
      },
      "source": [
        "# 문제4 : 변수의 타입2\n",
        "\n",
        "다음 변수 a를 print(type(a))로 넣었을 때 출력될 값과의 연결이 알맞지 않은 것은?\n",
        "\n",
        "1) 입력 : a=1, 출력: class'int'  \n",
        "2) 입력 : a=2.22, 출력: class'float'  \n",
        "3) 입력 : a='p', 출력: class'char'  \n",
        "4) 입력 : a=[1,2,3], 출력: class'list'  "
      ]
    },
    {
      "cell_type": "code",
      "metadata": {
        "colab": {
          "base_uri": "https://localhost:8080/"
        },
        "id": "wLdaRD4-BvoD",
        "outputId": "62f2bbfc-2334-48c8-e316-785ff3c9686a"
      },
      "source": [
        "a = 1\n",
        "print(type(a))\n",
        "a = 2.22\n",
        "print(type(a))\n",
        "a='p'\n",
        "print(type(a))\n",
        "a=[1,2,3]\n",
        "print(type(a))"
      ],
      "execution_count": null,
      "outputs": [
        {
          "output_type": "stream",
          "text": [
            "<class 'int'>\n",
            "<class 'float'>\n",
            "<class 'str'>\n",
            "<class 'list'>\n"
          ],
          "name": "stdout"
        }
      ]
    },
    {
      "cell_type": "markdown",
      "metadata": {
        "id": "YjNBdi9VCX3I"
      },
      "source": [
        "# 문제5: for문 계산"
      ]
    },
    {
      "cell_type": "markdown",
      "metadata": {
        "id": "IxZB-5PxCdfl"
      },
      "source": [
        "다음 코드의 출력 값으로 알맞은 것은?\n",
        "\n",
        "```python\n",
        "a = 10\n",
        "b = 2\n",
        "for i in range(1, 5, 2):\n",
        "  a += 1\n",
        "\n",
        "print(a+b)\n",
        "```"
      ]
    },
    {
      "cell_type": "code",
      "metadata": {
        "id": "Iy5R4roICpSs",
        "colab": {
          "base_uri": "https://localhost:8080/"
        },
        "outputId": "95999064-906f-4f2c-e74c-1a0af455d7f0"
      },
      "source": [
        "a = 10\n",
        "b = 2\n",
        "for i in range(1, 5, 2):\n",
        "  a += i\n",
        "\n",
        "print(a+b)"
      ],
      "execution_count": null,
      "outputs": [
        {
          "output_type": "stream",
          "text": [
            "16\n"
          ],
          "name": "stdout"
        }
      ]
    },
    {
      "cell_type": "code",
      "metadata": {
        "id": "IzLfoNnPCtBT"
      },
      "source": [
        ""
      ],
      "execution_count": null,
      "outputs": []
    }
  ]
}