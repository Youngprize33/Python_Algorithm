{
  "nbformat": 4,
  "nbformat_minor": 0,
  "metadata": {
    "colab": {
      "name": "Part.11~20.ipynb",
      "provenance": [],
      "collapsed_sections": [],
      "authorship_tag": "ABX9TyPZ4JB5gb1AUlmODAdhLnpX",
      "include_colab_link": true
    },
    "kernelspec": {
      "name": "python3",
      "display_name": "Python 3"
    },
    "language_info": {
      "name": "python"
    }
  },
  "cells": [
    {
      "cell_type": "markdown",
      "metadata": {
        "id": "view-in-github",
        "colab_type": "text"
      },
      "source": [
        "<a href=\"https://colab.research.google.com/github/Youngprize33/Python_Algorithm/blob/main/Part_11~20.ipynb\" target=\"_parent\"><img src=\"https://colab.research.google.com/assets/colab-badge.svg\" alt=\"Open In Colab\"/></a>"
      ]
    },
    {
      "cell_type": "markdown",
      "metadata": {
        "id": "YkiZrPe6r-qw"
      },
      "source": [
        "# 11. for문 개념 배우기\n",
        "\n",
        "for문은 특정 범위의 자료나 객체에 대해 처음부터 끝까지 하나씩 추출하여 특정 코드를 반복적으로 수행하기 위해 가장 많이 사용되는 반복문입니다.\n",
        "\n",
        "\n",
        "for 변수 in 범위:  \n",
        "반복으로 실행할 코드"
      ]
    },
    {
      "cell_type": "markdown",
      "metadata": {
        "id": "hlcHBFA2uNMf"
      },
      "source": [
        "for문의 범위로 사용되는 것은 시퀀스 자료형 또는 반복 가능한 자료,\n",
        "\n",
        "- 문자열\n",
        "- 리스트나 튜플\n",
        "- 사전\n",
        "- range()\n",
        "- 그 외 반복 가능한 객체"
      ]
    },
    {
      "cell_type": "code",
      "metadata": {
        "colab": {
          "base_uri": "https://localhost:8080/"
        },
        "id": "aMNpPDjYueGu",
        "outputId": "12cdb352-99bb-4abb-9b61-8423b02cbb58"
      },
      "source": [
        "# 문자열 범위\n",
        "str = 'abcdef'\n",
        "for c in str:\n",
        "  print(c)"
      ],
      "execution_count": 2,
      "outputs": [
        {
          "output_type": "stream",
          "text": [
            "a\n",
            "b\n",
            "c\n",
            "d\n",
            "e\n",
            "f\n"
          ],
          "name": "stdout"
        }
      ]
    },
    {
      "cell_type": "code",
      "metadata": {
        "colab": {
          "base_uri": "https://localhost:8080/"
        },
        "id": "M_SJRf1sukGN",
        "outputId": "f043bcfe-da9e-4398-8243-e9ed65922413"
      },
      "source": [
        "# 리스트 범위\n",
        "list = [1,2,3,4,5]\n",
        "for c in list:\n",
        "  print(c)"
      ],
      "execution_count": 3,
      "outputs": [
        {
          "output_type": "stream",
          "text": [
            "1\n",
            "2\n",
            "3\n",
            "4\n",
            "5\n"
          ],
          "name": "stdout"
        }
      ]
    },
    {
      "cell_type": "code",
      "metadata": {
        "colab": {
          "base_uri": "https://localhost:8080/"
        },
        "id": "Qy9BNH1Yuv9H",
        "outputId": "8a0ddb7a-d151-4d54-c396-421c6030c571"
      },
      "source": [
        "# 사전 범위\n",
        "ascii_codes = {'a':97, 'b':98, 'c':99}\n",
        "for c in ascii_codes:\n",
        "  print(c)"
      ],
      "execution_count": 4,
      "outputs": [
        {
          "output_type": "stream",
          "text": [
            "a\n",
            "b\n",
            "c\n"
          ],
          "name": "stdout"
        }
      ]
    },
    {
      "cell_type": "code",
      "metadata": {
        "colab": {
          "base_uri": "https://localhost:8080/"
        },
        "id": "ajnITLiZu35l",
        "outputId": "d4810829-ecda-4243-ad58-92d3c12a8968"
      },
      "source": [
        "# range() 범위\n",
        "for c in range(10):\n",
        "  print(c)"
      ],
      "execution_count": 5,
      "outputs": [
        {
          "output_type": "stream",
          "text": [
            "0\n",
            "1\n",
            "2\n",
            "3\n",
            "4\n",
            "5\n",
            "6\n",
            "7\n",
            "8\n",
            "9\n"
          ],
          "name": "stdout"
        }
      ]
    },
    {
      "cell_type": "markdown",
      "metadata": {
        "id": "dz8Pzlm-u7LQ"
      },
      "source": [
        "# 12. for문 개념배우기2 ( for ~ continue ~ break )\n",
        "\n",
        "for문을 이용해 반복문을 수행하다가 어떤 조건에 따라 반복문을 계속 수행하고, 아니면 반복문을 벗어나야 하는 경유 존재.\n",
        "\n",
        "for문 안에서 continue를 만나면 이후 코드는 수행하지 않고 다음 반복문을 수행하기 되며, break를 만나면 for문을 탈출.\n",
        "\n",
        "\n",
        "for 변수 in 범위:  \n",
        "() ...  \n",
        "() continum # 다음 반복문 수행  \n",
        "() ...  \n",
        "() break    # for 반복문 탈출  "
      ]
    },
    {
      "cell_type": "code",
      "metadata": {
        "colab": {
          "base_uri": "https://localhost:8080/"
        },
        "id": "DHAW_V0svOB8",
        "outputId": "8053fdee-830d-4196-ead9-87dc84ccdeac"
      },
      "source": [
        "scope = [1,2,3,4,5]\n",
        "for x in scope:\n",
        "  print(x)\n",
        "  if x < 3:\n",
        "    continue\n",
        "  else:\n",
        "    break\n"
      ],
      "execution_count": 8,
      "outputs": [
        {
          "output_type": "stream",
          "text": [
            "1\n",
            "2\n",
            "3\n"
          ],
          "name": "stdout"
        }
      ]
    },
    {
      "cell_type": "code",
      "metadata": {
        "colab": {
          "base_uri": "https://localhost:8080/"
        },
        "id": "0fPp7SuGvpa9",
        "outputId": "cf4feaf5-f4e7-4855-883a-34fc2fcaaddd"
      },
      "source": [
        "scope = [1,2,3,4,5]\n",
        "for x in scope:\n",
        "  print(x)\n",
        "  if x >= 3:\n",
        "    break"
      ],
      "execution_count": 9,
      "outputs": [
        {
          "output_type": "stream",
          "text": [
            "1\n",
            "2\n",
            "3\n"
          ],
          "name": "stdout"
        }
      ]
    },
    {
      "cell_type": "markdown",
      "metadata": {
        "id": "USBBXHv1v1lD"
      },
      "source": [
        "# 13. for문 개념 배우기3 (for ~ else)\n",
        "\n",
        "for 반복문이 break에 의해 중단됨이 없이 정상적으로 모두 실행되어야만 특정 코드를 실행하게 할 경우 for ~ else 사용\n",
        "\n",
        "for 변수 in 범위:  \n",
        "()  반복 실행 코드  \n",
        "else:  \n",
        "() for 구문이 모두 실행되었을 때 실행할 코드"
      ]
    },
    {
      "cell_type": "code",
      "metadata": {
        "colab": {
          "base_uri": "https://localhost:8080/"
        },
        "id": "qtPTnVOqwAe8",
        "outputId": "bafea17d-4b56-422c-879c-57080b7ccec8"
      },
      "source": [
        "scope = [1,2,3,]\n",
        "for x in scope:\n",
        "  print(x)\n",
        "  #break\n",
        "else:\n",
        "  print('Perfect')\n"
      ],
      "execution_count": 13,
      "outputs": [
        {
          "output_type": "stream",
          "text": [
            "1\n",
            "2\n",
            "3\n",
            "Perfect\n"
          ],
          "name": "stdout"
        }
      ]
    },
    {
      "cell_type": "markdown",
      "metadata": {
        "id": "XNg-BiCHwUQb"
      },
      "source": [
        "# 14. while문 개념 배우기 (while ~ continue ~ break)\n",
        "\n",
        "for문이 범위가 지정된 자료나 반복 가능한 객체를 이용해 반복문을 수행하는 것이라면 while문은 특정 조건을 만족하는 경우 지속적으로 반복을 수행하는 반복문\n",
        "\n",
        "while 조건:  \n",
        "() 반복 실행 코드  \n",
        "() continue  # while 구문 처음으로 이동하여   반복문 계속  \n",
        "() ...  \n",
        "() break  # while 구문 탈출  "
      ]
    },
    {
      "cell_type": "code",
      "metadata": {
        "colab": {
          "base_uri": "https://localhost:8080/"
        },
        "id": "cf3BY9SuxF9h",
        "outputId": "96db1fde-86a6-471e-c98c-1b42c32d58a1"
      },
      "source": [
        "x = 0\n",
        "while x < 10:\n",
        "  x = x+1\n",
        "  if x < 3:\n",
        "    continue\n",
        "  print(x)\n",
        "  if x > 7:\n",
        "    break"
      ],
      "execution_count": 24,
      "outputs": [
        {
          "output_type": "stream",
          "text": [
            "3\n",
            "4\n",
            "5\n",
            "6\n",
            "7\n",
            "8\n"
          ],
          "name": "stdout"
        }
      ]
    },
    {
      "cell_type": "markdown",
      "metadata": {
        "id": "qXNSMGug0CX2"
      },
      "source": [
        "while문은 무한 루프를 만들 때 자주 사용"
      ]
    },
    {
      "cell_type": "code",
      "metadata": {
        "colab": {
          "base_uri": "https://localhost:8080/"
        },
        "id": "XQjryge_xQUl",
        "outputId": "fdafa334-e0e6-486d-e407-e55d64a465a9"
      },
      "source": [
        "x = 1\n",
        "total = 0\n",
        "while 1:\n",
        "  total = total + x\n",
        "  if total > 10000:\n",
        "    print(x)\n",
        "    print(total)\n",
        "    break\n",
        "x = x+1"
      ],
      "execution_count": 25,
      "outputs": [
        {
          "output_type": "stream",
          "text": [
            "1\n",
            "10001\n"
          ],
          "name": "stdout"
        }
      ]
    },
    {
      "cell_type": "markdown",
      "metadata": {
        "id": "mkyV4woR0Fsy"
      },
      "source": [
        "# 15. None 개념 배우기\n",
        "\n",
        "None은 Types.NoneType의 유일한 값으로, 값이 존재하지 않는 변수에 대입하여 이 변수에 아무런 값이 없다는 것을 나타내기 위해 주로 활용.\n",
        "\n",
        "즉, None은 아무런 값도 없는 빈 깡통 변수\n",
        "\n",
        "임의의 자료형을 대입하여 활용 가능"
      ]
    },
    {
      "cell_type": "code",
      "metadata": {
        "id": "OcSRjjeW0FUv"
      },
      "source": [
        "val = None\n",
        "condition = 1\n",
        "if condition == 1:\n",
        "  val = [1,2,3]\n",
        "else:\n",
        "  val = 'I love Python'"
      ],
      "execution_count": 27,
      "outputs": []
    },
    {
      "cell_type": "code",
      "metadata": {
        "colab": {
          "base_uri": "https://localhost:8080/"
        },
        "id": "geA0DOXj0ACE",
        "outputId": "8e78bf77-1098-4400-8bc5-37840935b3ad"
      },
      "source": [
        "val"
      ],
      "execution_count": 28,
      "outputs": [
        {
          "output_type": "execute_result",
          "data": {
            "text/plain": [
              "[1, 2, 3]"
            ]
          },
          "metadata": {
            "tags": []
          },
          "execution_count": 28
        }
      ]
    },
    {
      "cell_type": "markdown",
      "metadata": {
        "id": "hY0i7Yen0mlq"
      },
      "source": [
        "# 16. 정수형 자료 이해하기\n",
        "\n",
        "파이썬 3에서는  \n",
        "2진수는 0b  \n",
        "8진수는 0o  \n",
        "16진수는 0x  \n",
        "로 시작한다."
      ]
    },
    {
      "cell_type": "code",
      "metadata": {
        "colab": {
          "base_uri": "https://localhost:8080/"
        },
        "id": "wv7B1Svj05UJ",
        "outputId": "0dacd3df-ba91-4a2b-c125-3198ecedeb17"
      },
      "source": [
        "int_data = 10\n",
        "bin_data = 0b10\n",
        "oct_data = 0o10\n",
        "hex_data = 0x10\n",
        "long_data = 1234567890123456789\n",
        "print(int_data)\n",
        "print(bin_data)\n",
        "print(oct_data)\n",
        "print(hex_data)\n",
        "print(long_data)"
      ],
      "execution_count": 30,
      "outputs": [
        {
          "output_type": "stream",
          "text": [
            "10\n",
            "2\n",
            "8\n",
            "16\n",
            "1234567890123456789\n"
          ],
          "name": "stdout"
        }
      ]
    },
    {
      "cell_type": "markdown",
      "metadata": {
        "id": "mlUnX5E61HRH"
      },
      "source": [
        "# 17. 실수형 자료 이해하기\n",
        "\n",
        "실수는 소수로 나타낼 수 있는 유리수와 원주율,   \n",
        "sqrt(2)와 같은 소수로 표현할 수 없는 무리수로 구성된 수 집합\n",
        "\n",
        "변수에 소수로 표현한 값을 대입하면 실수형 자료 취급\n",
        "\n",
        "실수형 상수를 표현하는 또 다른 방법은 e를 사용\n",
        "\n",
        "e는 10의 거듭제곱 표현\n",
        "e3 = 10^3"
      ]
    },
    {
      "cell_type": "code",
      "metadata": {
        "colab": {
          "base_uri": "https://localhost:8080/"
        },
        "id": "Ji6VL3961p76",
        "outputId": "96fbb4b8-af4e-41a0-83a3-65f57b84b0aa"
      },
      "source": [
        "f1 = 1.0\n",
        "f2 = 3.14\n",
        "f3 = 1.56e3\n",
        "f4 = -0.7e-4\n",
        "print(f1)\n",
        "print(f2)\n",
        "print(f3)\n",
        "print(f4)"
      ],
      "execution_count": 31,
      "outputs": [
        {
          "output_type": "stream",
          "text": [
            "1.0\n",
            "3.14\n",
            "1560.0\n",
            "-7e-05\n"
          ],
          "name": "stdout"
        }
      ]
    },
    {
      "cell_type": "markdown",
      "metadata": {
        "id": "v7Kb0ufr10vD"
      },
      "source": [
        "실수형 자료와 정수형 자료를 연산해서 나오는 결과는 모두 실수형 자료"
      ]
    },
    {
      "cell_type": "markdown",
      "metadata": {
        "id": "4fDE84j617f6"
      },
      "source": [
        "# 18. 복소수형 자료 이해하기\n",
        "\n",
        "복소수형 상수는 실수부 + 허수부로 구성"
      ]
    },
    {
      "cell_type": "code",
      "metadata": {
        "colab": {
          "base_uri": "https://localhost:8080/"
        },
        "id": "8jUyW_VP2JLN",
        "outputId": "080186aa-bab4-441c-db30-7a99dec093b5"
      },
      "source": [
        "cl = 1+7j\n",
        "print(cl.real); print(cl.imag)\n",
        "c2 = complex(2, -3)\n",
        "print(c2)"
      ],
      "execution_count": 32,
      "outputs": [
        {
          "output_type": "stream",
          "text": [
            "1.0\n",
            "7.0\n",
            "(2-3j)\n"
          ],
          "name": "stdout"
        }
      ]
    },
    {
      "cell_type": "markdown",
      "metadata": {
        "id": "qVfF01ek2Jey"
      },
      "source": [
        "# 19. 대입 연산자 이해하기(=)\n",
        "\n",
        "변수에 값을 대입하는데 사용되는 기호는 =(등호)\n",
        "\n",
        "두 값이 같은 경우는 =="
      ]
    },
    {
      "cell_type": "code",
      "metadata": {
        "colab": {
          "base_uri": "https://localhost:8080/"
        },
        "id": "ZwaqFlkL2ZA0",
        "outputId": "2ff8bcdf-85fb-4243-cb86-1b6f8d62667f"
      },
      "source": [
        "a = 1\n",
        "b = 2\n",
        "ret = a+b\n",
        "print('a와 b를 더한 값은', end='')\n",
        "print(ret, end='')\n",
        "print('입니다.')"
      ],
      "execution_count": 33,
      "outputs": [
        {
          "output_type": "stream",
          "text": [
            "a와 b를 더한 값은3입니다.\n"
          ],
          "name": "stdout"
        }
      ]
    },
    {
      "cell_type": "markdown",
      "metadata": {
        "id": "ZGbk3b072fqo"
      },
      "source": [
        "# 20. 사칙 연산자 이해하기 (+, -, *, /, **)\n",
        "\n",
        "파이썬에서 사칙연산 가능"
      ]
    },
    {
      "cell_type": "code",
      "metadata": {
        "id": "4Za-xBkF2pPS"
      },
      "source": [
        "a = 2\n",
        "b = 4\n",
        "ret1 = a+b\n",
        "ret2 = a-b\n",
        "ret3 = a*b\n",
        "ret4 = a/b\n",
        "ret5 = a**b\n",
        "ret6 = a+a*b/a\n",
        "ret7 = (a+b)*(a-b)\n",
        "ret8 = a*b**a"
      ],
      "execution_count": 34,
      "outputs": []
    },
    {
      "cell_type": "code",
      "metadata": {
        "colab": {
          "base_uri": "https://localhost:8080/"
        },
        "id": "kLw7sksy213V",
        "outputId": "963400a4-54bc-4cc2-da24-33cd92fd6f58"
      },
      "source": [
        "print(ret1)\n",
        "print(ret2)\n",
        "print(ret3)\n",
        "print(ret4)\n",
        "print(ret5)\n",
        "print(ret6)\n",
        "print(ret7)\n",
        "print(ret8)"
      ],
      "execution_count": 43,
      "outputs": [
        {
          "output_type": "stream",
          "text": [
            "6\n",
            "-2\n",
            "8\n",
            "0.5\n",
            "16\n",
            "6.0\n",
            "-12\n",
            "32\n"
          ],
          "name": "stdout"
        }
      ]
    },
    {
      "cell_type": "code",
      "metadata": {
        "id": "fbOVyj8X2_Wj"
      },
      "source": [
        ""
      ],
      "execution_count": null,
      "outputs": []
    }
  ]
}