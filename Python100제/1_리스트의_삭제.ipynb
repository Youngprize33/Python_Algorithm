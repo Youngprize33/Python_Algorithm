{
  "nbformat": 4,
  "nbformat_minor": 0,
  "metadata": {
    "colab": {
      "name": "1. 리스트의 삭제.ipynb",
      "provenance": [],
      "authorship_tag": "ABX9TyNP/oUUIXEGiWI1p75ahaxM",
      "include_colab_link": true
    },
    "kernelspec": {
      "name": "python3",
      "display_name": "Python 3"
    },
    "language_info": {
      "name": "python"
    }
  },
  "cells": [
    {
      "cell_type": "markdown",
      "metadata": {
        "id": "view-in-github",
        "colab_type": "text"
      },
      "source": [
        "<a href=\"https://colab.research.google.com/github/Youngprize33/Python_Algorithm/blob/main/1_%EB%A6%AC%EC%8A%A4%ED%8A%B8%EC%9D%98_%EC%82%AD%EC%A0%9C.ipynb\" target=\"_parent\"><img src=\"https://colab.research.google.com/assets/colab-badge.svg\" alt=\"Open In Colab\"/></a>"
      ]
    },
    {
      "cell_type": "markdown",
      "metadata": {
        "id": "IzrV96Y0LhO5"
      },
      "source": [
        "# 문제1 : 리스트의 삭제\n",
        "\n",
        "다음 리스트에서 400, 500을 삭제하는 code를 입력하시오."
      ]
    },
    {
      "cell_type": "code",
      "metadata": {
        "id": "UVF2y__FLkEZ"
      },
      "source": [
        "num = [100, 200, 300, 400, 500]"
      ],
      "execution_count": 36,
      "outputs": []
    },
    {
      "cell_type": "code",
      "metadata": {
        "colab": {
          "base_uri": "https://localhost:8080/"
        },
        "id": "b-wmOHPdLHhw",
        "outputId": "61dbe542-7080-460f-db46-fb5d27ea90ea"
      },
      "source": [
        "num"
      ],
      "execution_count": 37,
      "outputs": [
        {
          "output_type": "execute_result",
          "data": {
            "text/plain": [
              "[100, 200, 300, 400, 500]"
            ]
          },
          "metadata": {
            "tags": []
          },
          "execution_count": 37
        }
      ]
    },
    {
      "cell_type": "code",
      "metadata": {
        "colab": {
          "base_uri": "https://localhost:8080/"
        },
        "id": "VuMhKMfeLfWI",
        "outputId": "83dc90a9-ff1e-48b4-ab78-a33ec6a49de7"
      },
      "source": [
        "del num[3:5]\n",
        "num"
      ],
      "execution_count": 39,
      "outputs": [
        {
          "output_type": "execute_result",
          "data": {
            "text/plain": [
              "[100, 200, 300]"
            ]
          },
          "metadata": {
            "tags": []
          },
          "execution_count": 39
        }
      ]
    },
    {
      "cell_type": "code",
      "metadata": {
        "id": "AxAV3IPGL5wg"
      },
      "source": [
        "num = [100, 200, 300, 400, 500]"
      ],
      "execution_count": 34,
      "outputs": []
    },
    {
      "cell_type": "code",
      "metadata": {
        "colab": {
          "base_uri": "https://localhost:8080/"
        },
        "id": "D9t8dHZaMLk1",
        "outputId": "540b3aff-70e2-47be-efcc-f2897f624b92"
      },
      "source": [
        "num.remove(400) \n",
        "num.remove(500)\n",
        "num"
      ],
      "execution_count": 35,
      "outputs": [
        {
          "output_type": "execute_result",
          "data": {
            "text/plain": [
              "[100, 200, 300]"
            ]
          },
          "metadata": {
            "tags": []
          },
          "execution_count": 35
        }
      ]
    }
  ]
}
